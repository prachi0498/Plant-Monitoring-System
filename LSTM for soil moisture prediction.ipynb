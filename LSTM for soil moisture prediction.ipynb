{
 "cells": [
  {
   "cell_type": "code",
   "execution_count": 1,
   "id": "8fb03ecb",
   "metadata": {},
   "outputs": [],
   "source": [
    "import warnings\n",
    "import itertools\n",
    "import pandas as pd\n",
    "import numpy as np\n",
    "import statsmodels.api as sm\n",
    "import matplotlib.pyplot as plt\n",
    "import seaborn as sns\n",
    "import re\n",
    "from tensorflow.keras.models import Sequential\n",
    "from tensorflow.keras.layers import Dense\n",
    "from tensorflow.keras.layers import LSTM\n",
    "from sklearn.preprocessing import MinMaxScaler\n",
    "plt.style.use('fivethirtyeight')"
   ]
  },
  {
   "cell_type": "code",
   "execution_count": 2,
   "id": "8ae8a252",
   "metadata": {},
   "outputs": [
    {
     "name": "stdout",
     "output_type": "stream",
     "text": [
      "<class 'pandas.core.frame.DataFrame'>\n",
      "RangeIndex: 21128 entries, 0 to 21127\n",
      "Data columns (total 8 columns):\n",
      " #   Column      Non-Null Count  Dtype  \n",
      "---  ------      --------------  -----  \n",
      " 0   Date        21128 non-null  object \n",
      " 1   Time        21128 non-null  object \n",
      " 2   Hours       21128 non-null  int64  \n",
      " 3   Soil_Moist  21128 non-null  int64  \n",
      " 4   Amb_temp    21128 non-null  float64\n",
      " 5   Humidity    21128 non-null  int64  \n",
      " 6   Soil_temp   21128 non-null  float64\n",
      " 7   Photo_Re    21128 non-null  int64  \n",
      "dtypes: float64(2), int64(4), object(2)\n",
      "memory usage: 1.3+ MB\n"
     ]
    }
   ],
   "source": [
    "data1 = pd.read_csv(\"plant_data.csv\")\n",
    "data1.info()"
   ]
  },
  {
   "cell_type": "code",
   "execution_count": 3,
   "id": "857faafb",
   "metadata": {},
   "outputs": [
    {
     "data": {
      "text/html": [
       "<div>\n",
       "<style scoped>\n",
       "    .dataframe tbody tr th:only-of-type {\n",
       "        vertical-align: middle;\n",
       "    }\n",
       "\n",
       "    .dataframe tbody tr th {\n",
       "        vertical-align: top;\n",
       "    }\n",
       "\n",
       "    .dataframe thead th {\n",
       "        text-align: right;\n",
       "    }\n",
       "</style>\n",
       "<table border=\"1\" class=\"dataframe\">\n",
       "  <thead>\n",
       "    <tr style=\"text-align: right;\">\n",
       "      <th></th>\n",
       "      <th>Date</th>\n",
       "      <th>Time</th>\n",
       "      <th>Hours</th>\n",
       "      <th>Soil_Moist</th>\n",
       "      <th>Amb_temp</th>\n",
       "      <th>Humidity</th>\n",
       "      <th>Soil_temp</th>\n",
       "      <th>Photo_Re</th>\n",
       "    </tr>\n",
       "  </thead>\n",
       "  <tbody>\n",
       "    <tr>\n",
       "      <th>0</th>\n",
       "      <td>2023-02-11</td>\n",
       "      <td>01:33:23</td>\n",
       "      <td>1</td>\n",
       "      <td>117</td>\n",
       "      <td>26.9</td>\n",
       "      <td>40</td>\n",
       "      <td>22.9375</td>\n",
       "      <td>737</td>\n",
       "    </tr>\n",
       "    <tr>\n",
       "      <th>1</th>\n",
       "      <td>2023-02-11</td>\n",
       "      <td>01:33:48</td>\n",
       "      <td>1</td>\n",
       "      <td>116</td>\n",
       "      <td>26.9</td>\n",
       "      <td>40</td>\n",
       "      <td>22.9375</td>\n",
       "      <td>842</td>\n",
       "    </tr>\n",
       "    <tr>\n",
       "      <th>2</th>\n",
       "      <td>2023-02-11</td>\n",
       "      <td>01:34:13</td>\n",
       "      <td>1</td>\n",
       "      <td>117</td>\n",
       "      <td>26.9</td>\n",
       "      <td>40</td>\n",
       "      <td>22.9375</td>\n",
       "      <td>800</td>\n",
       "    </tr>\n",
       "    <tr>\n",
       "      <th>3</th>\n",
       "      <td>2023-02-11</td>\n",
       "      <td>01:34:38</td>\n",
       "      <td>1</td>\n",
       "      <td>116</td>\n",
       "      <td>26.7</td>\n",
       "      <td>40</td>\n",
       "      <td>22.9375</td>\n",
       "      <td>739</td>\n",
       "    </tr>\n",
       "    <tr>\n",
       "      <th>4</th>\n",
       "      <td>2023-02-11</td>\n",
       "      <td>01:35:28</td>\n",
       "      <td>1</td>\n",
       "      <td>117</td>\n",
       "      <td>26.7</td>\n",
       "      <td>40</td>\n",
       "      <td>22.8750</td>\n",
       "      <td>835</td>\n",
       "    </tr>\n",
       "    <tr>\n",
       "      <th>...</th>\n",
       "      <td>...</td>\n",
       "      <td>...</td>\n",
       "      <td>...</td>\n",
       "      <td>...</td>\n",
       "      <td>...</td>\n",
       "      <td>...</td>\n",
       "      <td>...</td>\n",
       "      <td>...</td>\n",
       "    </tr>\n",
       "    <tr>\n",
       "      <th>21123</th>\n",
       "      <td>2023-02-20</td>\n",
       "      <td>11:26:27</td>\n",
       "      <td>11</td>\n",
       "      <td>149</td>\n",
       "      <td>37.1</td>\n",
       "      <td>17</td>\n",
       "      <td>31.3750</td>\n",
       "      <td>3989</td>\n",
       "    </tr>\n",
       "    <tr>\n",
       "      <th>21124</th>\n",
       "      <td>2023-02-20</td>\n",
       "      <td>11:26:52</td>\n",
       "      <td>11</td>\n",
       "      <td>149</td>\n",
       "      <td>37.9</td>\n",
       "      <td>17</td>\n",
       "      <td>31.3750</td>\n",
       "      <td>4016</td>\n",
       "    </tr>\n",
       "    <tr>\n",
       "      <th>21125</th>\n",
       "      <td>2023-02-20</td>\n",
       "      <td>11:27:16</td>\n",
       "      <td>11</td>\n",
       "      <td>148</td>\n",
       "      <td>38.7</td>\n",
       "      <td>16</td>\n",
       "      <td>31.3750</td>\n",
       "      <td>4018</td>\n",
       "    </tr>\n",
       "    <tr>\n",
       "      <th>21126</th>\n",
       "      <td>2023-02-20</td>\n",
       "      <td>11:27:41</td>\n",
       "      <td>11</td>\n",
       "      <td>148</td>\n",
       "      <td>38.7</td>\n",
       "      <td>16</td>\n",
       "      <td>31.3750</td>\n",
       "      <td>4011</td>\n",
       "    </tr>\n",
       "    <tr>\n",
       "      <th>21127</th>\n",
       "      <td>2023-02-20</td>\n",
       "      <td>11:28:06</td>\n",
       "      <td>11</td>\n",
       "      <td>147</td>\n",
       "      <td>39.9</td>\n",
       "      <td>17</td>\n",
       "      <td>31.4375</td>\n",
       "      <td>4012</td>\n",
       "    </tr>\n",
       "  </tbody>\n",
       "</table>\n",
       "<p>21128 rows × 8 columns</p>\n",
       "</div>"
      ],
      "text/plain": [
       "             Date      Time  Hours  Soil_Moist  Amb_temp  Humidity  Soil_temp  \\\n",
       "0      2023-02-11  01:33:23      1         117      26.9        40    22.9375   \n",
       "1      2023-02-11  01:33:48      1         116      26.9        40    22.9375   \n",
       "2      2023-02-11  01:34:13      1         117      26.9        40    22.9375   \n",
       "3      2023-02-11  01:34:38      1         116      26.7        40    22.9375   \n",
       "4      2023-02-11  01:35:28      1         117      26.7        40    22.8750   \n",
       "...           ...       ...    ...         ...       ...       ...        ...   \n",
       "21123  2023-02-20  11:26:27     11         149      37.1        17    31.3750   \n",
       "21124  2023-02-20  11:26:52     11         149      37.9        17    31.3750   \n",
       "21125  2023-02-20  11:27:16     11         148      38.7        16    31.3750   \n",
       "21126  2023-02-20  11:27:41     11         148      38.7        16    31.3750   \n",
       "21127  2023-02-20  11:28:06     11         147      39.9        17    31.4375   \n",
       "\n",
       "       Photo_Re  \n",
       "0           737  \n",
       "1           842  \n",
       "2           800  \n",
       "3           739  \n",
       "4           835  \n",
       "...         ...  \n",
       "21123      3989  \n",
       "21124      4016  \n",
       "21125      4018  \n",
       "21126      4011  \n",
       "21127      4012  \n",
       "\n",
       "[21128 rows x 8 columns]"
      ]
     },
     "execution_count": 3,
     "metadata": {},
     "output_type": "execute_result"
    }
   ],
   "source": [
    "data1"
   ]
  },
  {
   "cell_type": "code",
   "execution_count": 4,
   "id": "fbe4fba4",
   "metadata": {},
   "outputs": [],
   "source": [
    "data1['actual_date']=pd.to_datetime(data1['Date']+' '+data1['Time'])"
   ]
  },
  {
   "cell_type": "code",
   "execution_count": 5,
   "id": "c0854ebb",
   "metadata": {},
   "outputs": [
    {
     "data": {
      "text/html": [
       "<div>\n",
       "<style scoped>\n",
       "    .dataframe tbody tr th:only-of-type {\n",
       "        vertical-align: middle;\n",
       "    }\n",
       "\n",
       "    .dataframe tbody tr th {\n",
       "        vertical-align: top;\n",
       "    }\n",
       "\n",
       "    .dataframe thead th {\n",
       "        text-align: right;\n",
       "    }\n",
       "</style>\n",
       "<table border=\"1\" class=\"dataframe\">\n",
       "  <thead>\n",
       "    <tr style=\"text-align: right;\">\n",
       "      <th></th>\n",
       "      <th>Date</th>\n",
       "      <th>Time</th>\n",
       "      <th>Hours</th>\n",
       "      <th>Soil_Moist</th>\n",
       "      <th>Amb_temp</th>\n",
       "      <th>Humidity</th>\n",
       "      <th>Soil_temp</th>\n",
       "      <th>Photo_Re</th>\n",
       "      <th>actual_date</th>\n",
       "    </tr>\n",
       "  </thead>\n",
       "  <tbody>\n",
       "    <tr>\n",
       "      <th>0</th>\n",
       "      <td>2023-02-11</td>\n",
       "      <td>01:33:23</td>\n",
       "      <td>1</td>\n",
       "      <td>117</td>\n",
       "      <td>26.9</td>\n",
       "      <td>40</td>\n",
       "      <td>22.9375</td>\n",
       "      <td>737</td>\n",
       "      <td>2023-02-11 01:33:23</td>\n",
       "    </tr>\n",
       "    <tr>\n",
       "      <th>1</th>\n",
       "      <td>2023-02-11</td>\n",
       "      <td>01:33:48</td>\n",
       "      <td>1</td>\n",
       "      <td>116</td>\n",
       "      <td>26.9</td>\n",
       "      <td>40</td>\n",
       "      <td>22.9375</td>\n",
       "      <td>842</td>\n",
       "      <td>2023-02-11 01:33:48</td>\n",
       "    </tr>\n",
       "    <tr>\n",
       "      <th>2</th>\n",
       "      <td>2023-02-11</td>\n",
       "      <td>01:34:13</td>\n",
       "      <td>1</td>\n",
       "      <td>117</td>\n",
       "      <td>26.9</td>\n",
       "      <td>40</td>\n",
       "      <td>22.9375</td>\n",
       "      <td>800</td>\n",
       "      <td>2023-02-11 01:34:13</td>\n",
       "    </tr>\n",
       "    <tr>\n",
       "      <th>3</th>\n",
       "      <td>2023-02-11</td>\n",
       "      <td>01:34:38</td>\n",
       "      <td>1</td>\n",
       "      <td>116</td>\n",
       "      <td>26.7</td>\n",
       "      <td>40</td>\n",
       "      <td>22.9375</td>\n",
       "      <td>739</td>\n",
       "      <td>2023-02-11 01:34:38</td>\n",
       "    </tr>\n",
       "    <tr>\n",
       "      <th>4</th>\n",
       "      <td>2023-02-11</td>\n",
       "      <td>01:35:28</td>\n",
       "      <td>1</td>\n",
       "      <td>117</td>\n",
       "      <td>26.7</td>\n",
       "      <td>40</td>\n",
       "      <td>22.8750</td>\n",
       "      <td>835</td>\n",
       "      <td>2023-02-11 01:35:28</td>\n",
       "    </tr>\n",
       "  </tbody>\n",
       "</table>\n",
       "</div>"
      ],
      "text/plain": [
       "         Date      Time  Hours  Soil_Moist  Amb_temp  Humidity  Soil_temp  \\\n",
       "0  2023-02-11  01:33:23      1         117      26.9        40    22.9375   \n",
       "1  2023-02-11  01:33:48      1         116      26.9        40    22.9375   \n",
       "2  2023-02-11  01:34:13      1         117      26.9        40    22.9375   \n",
       "3  2023-02-11  01:34:38      1         116      26.7        40    22.9375   \n",
       "4  2023-02-11  01:35:28      1         117      26.7        40    22.8750   \n",
       "\n",
       "   Photo_Re         actual_date  \n",
       "0       737 2023-02-11 01:33:23  \n",
       "1       842 2023-02-11 01:33:48  \n",
       "2       800 2023-02-11 01:34:13  \n",
       "3       739 2023-02-11 01:34:38  \n",
       "4       835 2023-02-11 01:35:28  "
      ]
     },
     "execution_count": 5,
     "metadata": {},
     "output_type": "execute_result"
    }
   ],
   "source": [
    "data1.head()"
   ]
  },
  {
   "cell_type": "code",
   "execution_count": 6,
   "id": "ac0bcee3",
   "metadata": {},
   "outputs": [],
   "source": [
    "data1=data1.drop(['Date'],axis=1)"
   ]
  },
  {
   "cell_type": "code",
   "execution_count": 7,
   "id": "1688cb14",
   "metadata": {},
   "outputs": [],
   "source": [
    "data1=data1.drop(['Time'],axis=1)"
   ]
  },
  {
   "cell_type": "code",
   "execution_count": 8,
   "id": "a6d792c1",
   "metadata": {},
   "outputs": [
    {
     "data": {
      "text/html": [
       "<div>\n",
       "<style scoped>\n",
       "    .dataframe tbody tr th:only-of-type {\n",
       "        vertical-align: middle;\n",
       "    }\n",
       "\n",
       "    .dataframe tbody tr th {\n",
       "        vertical-align: top;\n",
       "    }\n",
       "\n",
       "    .dataframe thead th {\n",
       "        text-align: right;\n",
       "    }\n",
       "</style>\n",
       "<table border=\"1\" class=\"dataframe\">\n",
       "  <thead>\n",
       "    <tr style=\"text-align: right;\">\n",
       "      <th></th>\n",
       "      <th>Hours</th>\n",
       "      <th>Soil_Moist</th>\n",
       "      <th>Amb_temp</th>\n",
       "      <th>Humidity</th>\n",
       "      <th>Soil_temp</th>\n",
       "      <th>Photo_Re</th>\n",
       "      <th>actual_date</th>\n",
       "    </tr>\n",
       "  </thead>\n",
       "  <tbody>\n",
       "    <tr>\n",
       "      <th>0</th>\n",
       "      <td>1</td>\n",
       "      <td>117</td>\n",
       "      <td>26.9</td>\n",
       "      <td>40</td>\n",
       "      <td>22.9375</td>\n",
       "      <td>737</td>\n",
       "      <td>2023-02-11 01:33:23</td>\n",
       "    </tr>\n",
       "    <tr>\n",
       "      <th>1</th>\n",
       "      <td>1</td>\n",
       "      <td>116</td>\n",
       "      <td>26.9</td>\n",
       "      <td>40</td>\n",
       "      <td>22.9375</td>\n",
       "      <td>842</td>\n",
       "      <td>2023-02-11 01:33:48</td>\n",
       "    </tr>\n",
       "    <tr>\n",
       "      <th>2</th>\n",
       "      <td>1</td>\n",
       "      <td>117</td>\n",
       "      <td>26.9</td>\n",
       "      <td>40</td>\n",
       "      <td>22.9375</td>\n",
       "      <td>800</td>\n",
       "      <td>2023-02-11 01:34:13</td>\n",
       "    </tr>\n",
       "    <tr>\n",
       "      <th>3</th>\n",
       "      <td>1</td>\n",
       "      <td>116</td>\n",
       "      <td>26.7</td>\n",
       "      <td>40</td>\n",
       "      <td>22.9375</td>\n",
       "      <td>739</td>\n",
       "      <td>2023-02-11 01:34:38</td>\n",
       "    </tr>\n",
       "    <tr>\n",
       "      <th>4</th>\n",
       "      <td>1</td>\n",
       "      <td>117</td>\n",
       "      <td>26.7</td>\n",
       "      <td>40</td>\n",
       "      <td>22.8750</td>\n",
       "      <td>835</td>\n",
       "      <td>2023-02-11 01:35:28</td>\n",
       "    </tr>\n",
       "  </tbody>\n",
       "</table>\n",
       "</div>"
      ],
      "text/plain": [
       "   Hours  Soil_Moist  Amb_temp  Humidity  Soil_temp  Photo_Re  \\\n",
       "0      1         117      26.9        40    22.9375       737   \n",
       "1      1         116      26.9        40    22.9375       842   \n",
       "2      1         117      26.9        40    22.9375       800   \n",
       "3      1         116      26.7        40    22.9375       739   \n",
       "4      1         117      26.7        40    22.8750       835   \n",
       "\n",
       "          actual_date  \n",
       "0 2023-02-11 01:33:23  \n",
       "1 2023-02-11 01:33:48  \n",
       "2 2023-02-11 01:34:13  \n",
       "3 2023-02-11 01:34:38  \n",
       "4 2023-02-11 01:35:28  "
      ]
     },
     "execution_count": 8,
     "metadata": {},
     "output_type": "execute_result"
    }
   ],
   "source": [
    "data1.head()"
   ]
  },
  {
   "cell_type": "code",
   "execution_count": 9,
   "id": "daf18957",
   "metadata": {},
   "outputs": [],
   "source": [
    "data1[\"actual_date\"]=pd.to_datetime(data1[\"actual_date\"])"
   ]
  },
  {
   "cell_type": "code",
   "execution_count": 10,
   "id": "4fb303db",
   "metadata": {},
   "outputs": [],
   "source": [
    "#data1.to_csv(\"result_1.csv\")"
   ]
  },
  {
   "cell_type": "code",
   "execution_count": 11,
   "id": "231009d0",
   "metadata": {},
   "outputs": [
    {
     "data": {
      "image/png": "[encoded data removed]",
      "text/plain": [
       "<Figure size 432x288 with 1 Axes>"
      ]
     },
     "metadata": {},
     "output_type": "display_data"
    }
   ],
   "source": [
    "data1.plot(x = 'actual_date', y = 'Soil_Moist')\n",
    "plt.show()"
   ]
  },
  {
   "cell_type": "code",
   "execution_count": 12,
   "id": "5a8756ef",
   "metadata": {},
   "outputs": [
    {
     "data": {
      "image/png": "[encoded data removed]",
      "text/plain": [
       "<Figure size 432x288 with 1 Axes>"
      ]
     },
     "metadata": {},
     "output_type": "display_data"
    }
   ],
   "source": [
    "sns.barplot(x = 'Hours', y = 'Soil_Moist', data = data1)\n",
    "plt.show()"
   ]
  },
  {
   "cell_type": "code",
   "execution_count": 13,
   "id": "ebf3fcde",
   "metadata": {},
   "outputs": [
    {
     "data": {
      "image/png": "[encoded data removed]",
      "text/plain": [
       "<Figure size 432x288 with 1 Axes>"
      ]
     },
     "metadata": {},
     "output_type": "display_data"
    }
   ],
   "source": [
    "pd.plotting.autocorrelation_plot(data1['Soil_Moist'])\n",
    "plt.show()"
   ]
  },
  {
   "cell_type": "code",
   "execution_count": 14,
   "id": "6e565aef",
   "metadata": {},
   "outputs": [
    {
     "data": {
      "image/png": "[encoded data removed]",
      "text/plain": [
       "<Figure size 432x288 with 1 Axes>"
      ]
     },
     "metadata": {},
     "output_type": "display_data"
    }
   ],
   "source": [
    "pd.plotting.lag_plot(data1['Soil_Moist'])\n",
    "plt.show()"
   ]
  },
  {
   "cell_type": "code",
   "execution_count": 15,
   "id": "915f690b",
   "metadata": {},
   "outputs": [],
   "source": [
    "df1=data1.reset_index()['Soil_Moist']"
   ]
  },
  {
   "cell_type": "code",
   "execution_count": 16,
   "id": "32d74bfe",
   "metadata": {},
   "outputs": [
    {
     "data": {
      "text/plain": [
       "(21128,)"
      ]
     },
     "execution_count": 16,
     "metadata": {},
     "output_type": "execute_result"
    }
   ],
   "source": [
    "df1.shape"
   ]
  },
  {
   "cell_type": "code",
   "execution_count": 17,
   "id": "e26346b4",
   "metadata": {},
   "outputs": [
    {
     "data": {
      "text/plain": [
       "[<matplotlib.lines.Line2D at 0x27fd486d250>]"
      ]
     },
     "execution_count": 17,
     "metadata": {},
     "output_type": "execute_result"
    },
    {
     "data": {
      "image/png": "[encoded data removed]",
      "text/plain": [
       "<Figure size 432x288 with 1 Axes>"
      ]
     },
     "metadata": {},
     "output_type": "display_data"
    }
   ],
   "source": [
    "import matplotlib.pyplot as plt\n",
    "plt.plot(df1)"
   ]
  },
  {
   "cell_type": "code",
   "execution_count": 18,
   "id": "3f1e6d9e",
   "metadata": {},
   "outputs": [],
   "source": [
    "scaler=MinMaxScaler(feature_range=(0,1))\n",
    "df1=scaler.fit_transform(np.array(df1).reshape(-1,1))"
   ]
  },
  {
   "cell_type": "code",
   "execution_count": 19,
   "id": "7a9b4a1d",
   "metadata": {},
   "outputs": [
    {
     "data": {
      "text/plain": [
       "(21128, 1)"
      ]
     },
     "execution_count": 19,
     "metadata": {},
     "output_type": "execute_result"
    }
   ],
   "source": [
    "df1.shape"
   ]
  },
  {
   "cell_type": "code",
   "execution_count": 20,
   "id": "434015b9",
   "metadata": {},
   "outputs": [],
   "source": [
    "training_size=int(len(df1)*0.65)\n",
    "test_size=len(df1)-training_size\n",
    "train_data,test_data=df1[0:training_size,:],df1[training_size:len(df1),:1]"
   ]
  },
  {
   "cell_type": "code",
   "execution_count": 21,
   "id": "96e0c473",
   "metadata": {},
   "outputs": [],
   "source": [
    "import numpy"
   ]
  },
  {
   "cell_type": "code",
   "execution_count": 22,
   "id": "9d1558e8",
   "metadata": {},
   "outputs": [],
   "source": [
    "def create_dataset (dataset, time_step=1):\n",
    "    dataX, dataY = [],[]\n",
    "    for i in range (len(dataset)- time_step-1):\n",
    "        a=dataset[i:(i+time_step),0]\n",
    "        dataX.append(a)\n",
    "        dataY.append(dataset[i + time_step,0])\n",
    "    return numpy.array(dataX), numpy.array(dataY)"
   ]
  },
  {
   "cell_type": "code",
   "execution_count": 23,
   "id": "3d9fb7fe",
   "metadata": {},
   "outputs": [],
   "source": [
    "time_step=100\n",
    "X_train, y_train = create_dataset (train_data, time_step)\n",
    "X_test, ytest =create_dataset(test_data, time_step) "
   ]
  },
  {
   "cell_type": "code",
   "execution_count": 24,
   "id": "6ae5ec24",
   "metadata": {},
   "outputs": [
    {
     "name": "stdout",
     "output_type": "stream",
     "text": [
      "[[0.09294872 0.08974359 0.09294872 ... 0.08974359 0.08653846 0.08333333]\n",
      " [0.08974359 0.09294872 0.08974359 ... 0.08653846 0.08333333 0.08333333]\n",
      " [0.09294872 0.08974359 0.09294872 ... 0.08333333 0.08333333 0.08333333]\n",
      " ...\n",
      " [0.16025641 0.16025641 0.16025641 ... 0.16346154 0.16346154 0.16346154]\n",
      " [0.16025641 0.16025641 0.16025641 ... 0.16346154 0.16346154 0.16346154]\n",
      " [0.16025641 0.16025641 0.16025641 ... 0.16346154 0.16346154 0.16346154]]\n"
     ]
    }
   ],
   "source": [
    "print (X_train)"
   ]
  },
  {
   "cell_type": "code",
   "execution_count": 25,
   "id": "5f47519e",
   "metadata": {},
   "outputs": [
    {
     "name": "stdout",
     "output_type": "stream",
     "text": [
      "(13632, 100)\n",
      "(13632,)\n"
     ]
    }
   ],
   "source": [
    "print(X_train.shape)\n",
    "print(y_train.shape)"
   ]
  },
  {
   "cell_type": "code",
   "execution_count": 26,
   "id": "65e9b6c1",
   "metadata": {},
   "outputs": [
    {
     "name": "stdout",
     "output_type": "stream",
     "text": [
      "(7294, 100)\n",
      "(7294,)\n"
     ]
    }
   ],
   "source": [
    "print(X_test.shape)\n",
    "print(ytest.shape)"
   ]
  },
  {
   "cell_type": "code",
   "execution_count": 27,
   "id": "7aebebfc",
   "metadata": {},
   "outputs": [
    {
     "data": {
      "text/plain": [
       "7395"
      ]
     },
     "execution_count": 27,
     "metadata": {},
     "output_type": "execute_result"
    }
   ],
   "source": [
    "len(test_data)"
   ]
  },
  {
   "cell_type": "code",
   "execution_count": 28,
   "id": "3b4bcd12",
   "metadata": {},
   "outputs": [],
   "source": [
    "X_train=X_train.reshape(X_train.shape[0], X_train.shape[1],1)\n",
    "X_test=X_test.reshape(X_test.shape[0], X_test.shape[1],1)"
   ]
  },
  {
   "cell_type": "code",
   "execution_count": 29,
   "id": "92f9cf24",
   "metadata": {},
   "outputs": [],
   "source": [
    "model=Sequential()\n",
    "model.add(LSTM(50,return_sequences=True, input_shape=(100,1)))\n",
    "model.add(LSTM(50,return_sequences=True))\n",
    "model.add(LSTM(50))\n",
    "model.add(Dense(1))"
   ]
  },
  {
   "cell_type": "code",
   "execution_count": 30,
   "id": "65964338",
   "metadata": {},
   "outputs": [],
   "source": [
    "model.compile(loss='mean_squared_error', optimizer='adam')"
   ]
  },
  {
   "cell_type": "code",
   "execution_count": 31,
   "id": "0672c67e",
   "metadata": {},
   "outputs": [
    {
     "name": "stdout",
     "output_type": "stream",
     "text": [
      "Model: \"sequential\"\n",
      "_________________________________________________________________\n",
      " Layer (type)                Output Shape              Param #   \n",
      "=================================================================\n",
      " lstm (LSTM)                 (None, 100, 50)           10400     \n",
      "                                                                 \n",
      " lstm_1 (LSTM)               (None, 100, 50)           20200     \n",
      "                                                                 \n",
      " lstm_2 (LSTM)               (None, 50)                20200     \n",
      "                                                                 \n",
      " dense (Dense)               (None, 1)                 51        \n",
      "                                                                 \n",
      "=================================================================\n",
      "Total params: 50,851\n",
      "Trainable params: 50,851\n",
      "Non-trainable params: 0\n",
      "_________________________________________________________________\n"
     ]
    }
   ],
   "source": [
    "model.summary()"
   ]
  },
  {
   "cell_type": "code",
   "execution_count": 32,
   "id": "2c7e8609",
   "metadata": {},
   "outputs": [
    {
     "data": {
      "text/plain": [
       "array([[[0.09294872],\n",
       "        [0.08974359],\n",
       "        [0.09294872],\n",
       "        ...,\n",
       "        [0.08974359],\n",
       "        [0.08653846],\n",
       "        [0.08333333]],\n",
       "\n",
       "       [[0.08974359],\n",
       "        [0.09294872],\n",
       "        [0.08974359],\n",
       "        ...,\n",
       "        [0.08653846],\n",
       "        [0.08333333],\n",
       "        [0.08333333]],\n",
       "\n",
       "       [[0.09294872],\n",
       "        [0.08974359],\n",
       "        [0.09294872],\n",
       "        ...,\n",
       "        [0.08333333],\n",
       "        [0.08333333],\n",
       "        [0.08333333]],\n",
       "\n",
       "       ...,\n",
       "\n",
       "       [[0.08974359],\n",
       "        [0.08653846],\n",
       "        [0.08333333],\n",
       "        ...,\n",
       "        [0.09615385],\n",
       "        [0.08653846],\n",
       "        [0.08974359]],\n",
       "\n",
       "       [[0.08653846],\n",
       "        [0.08333333],\n",
       "        [0.08333333],\n",
       "        ...,\n",
       "        [0.08653846],\n",
       "        [0.08974359],\n",
       "        [0.09615385]],\n",
       "\n",
       "       [[0.08333333],\n",
       "        [0.08333333],\n",
       "        [0.08333333],\n",
       "        ...,\n",
       "        [0.08974359],\n",
       "        [0.09615385],\n",
       "        [0.09294872]]])"
      ]
     },
     "execution_count": 32,
     "metadata": {},
     "output_type": "execute_result"
    }
   ],
   "source": [
    "X_train[:100]"
   ]
  },
  {
   "cell_type": "code",
   "execution_count": 33,
   "id": "90b50aa1",
   "metadata": {},
   "outputs": [
    {
     "name": "stdout",
     "output_type": "stream",
     "text": [
      "Epoch 1/20\n",
      "213/213 [==============================] - 50s 210ms/step - loss: 0.0033 - val_loss: 1.0875e-04\n",
      "Epoch 2/20\n",
      "213/213 [==============================] - 42s 196ms/step - loss: 8.7611e-04 - val_loss: 9.2593e-05\n",
      "Epoch 3/20\n",
      "213/213 [==============================] - 40s 190ms/step - loss: 7.5797e-04 - val_loss: 1.6144e-04\n",
      "Epoch 4/20\n",
      "213/213 [==============================] - 39s 185ms/step - loss: 6.5191e-04 - val_loss: 6.4267e-04\n",
      "Epoch 5/20\n",
      "213/213 [==============================] - 40s 186ms/step - loss: 5.6330e-04 - val_loss: 7.2062e-05\n",
      "Epoch 6/20\n",
      "213/213 [==============================] - 39s 183ms/step - loss: 5.6152e-04 - val_loss: 1.2906e-04\n",
      "Epoch 7/20\n",
      "213/213 [==============================] - 39s 183ms/step - loss: 4.7259e-04 - val_loss: 6.4727e-05\n",
      "Epoch 8/20\n",
      "213/213 [==============================] - 40s 186ms/step - loss: 4.0834e-04 - val_loss: 6.2362e-05\n",
      "Epoch 9/20\n",
      "213/213 [==============================] - 38s 178ms/step - loss: 3.7112e-04 - val_loss: 6.2257e-05\n",
      "Epoch 10/20\n",
      "213/213 [==============================] - 37s 175ms/step - loss: 3.2517e-04 - val_loss: 7.1004e-05\n",
      "Epoch 11/20\n",
      "213/213 [==============================] - 37s 176ms/step - loss: 2.9999e-04 - val_loss: 5.5003e-05\n",
      "Epoch 12/20\n",
      "213/213 [==============================] - 38s 178ms/step - loss: 2.8668e-04 - val_loss: 6.4803e-05\n",
      "Epoch 13/20\n",
      "213/213 [==============================] - 37s 174ms/step - loss: 2.6235e-04 - val_loss: 5.1286e-05\n",
      "Epoch 14/20\n",
      "213/213 [==============================] - 39s 182ms/step - loss: 2.3133e-04 - val_loss: 5.3066e-05\n",
      "Epoch 15/20\n",
      "213/213 [==============================] - 38s 180ms/step - loss: 2.3434e-04 - val_loss: 4.9872e-05\n",
      "Epoch 16/20\n",
      "213/213 [==============================] - 38s 180ms/step - loss: 2.2767e-04 - val_loss: 5.1954e-05\n",
      "Epoch 17/20\n",
      "213/213 [==============================] - 39s 182ms/step - loss: 2.3760e-04 - val_loss: 4.7720e-05\n",
      "Epoch 18/20\n",
      "213/213 [==============================] - 39s 184ms/step - loss: 2.0938e-04 - val_loss: 5.1601e-05\n",
      "Epoch 19/20\n",
      "213/213 [==============================] - 41s 192ms/step - loss: 2.1553e-04 - val_loss: 5.2890e-05\n",
      "Epoch 20/20\n",
      "213/213 [==============================] - 39s 185ms/step - loss: 2.3362e-04 - val_loss: 5.9828e-05\n"
     ]
    },
    {
     "data": {
      "text/plain": [
       "<keras.callbacks.History at 0x27fd8242c10>"
      ]
     },
     "execution_count": 33,
     "metadata": {},
     "output_type": "execute_result"
    }
   ],
   "source": [
    "model.fit(X_train,y_train, validation_data=(X_test,ytest),epochs=20, batch_size=64, verbose=1)"
   ]
  },
  {
   "cell_type": "code",
   "execution_count": 34,
   "id": "c87b530d",
   "metadata": {},
   "outputs": [],
   "source": [
    "import tensorflow as tf"
   ]
  },
  {
   "cell_type": "code",
   "execution_count": 35,
   "id": "b7d78ddf",
   "metadata": {},
   "outputs": [],
   "source": [
    "train_predict=model.predict(X_train)\n",
    "test_predict=model.predict(X_test)"
   ]
  },
  {
   "cell_type": "code",
   "execution_count": 36,
   "id": "097c3013",
   "metadata": {},
   "outputs": [],
   "source": [
    "train_predict=scaler.inverse_transform(train_predict)\n",
    "test_predict=scaler.inverse_transform(test_predict)"
   ]
  },
  {
   "cell_type": "code",
   "execution_count": 37,
   "id": "38014831",
   "metadata": {},
   "outputs": [
    {
     "data": {
      "text/plain": [
       "184.7253428154683"
      ]
     },
     "execution_count": 37,
     "metadata": {},
     "output_type": "execute_result"
    }
   ],
   "source": [
    "import math\n",
    "from sklearn.metrics import mean_squared_error\n",
    "math.sqrt(mean_squared_error(y_train,train_predict))"
   ]
  },
  {
   "cell_type": "code",
   "execution_count": 38,
   "id": "5c0c5f8a",
   "metadata": {},
   "outputs": [
    {
     "data": {
      "text/plain": [
       "140.9855486230981"
      ]
     },
     "execution_count": 38,
     "metadata": {},
     "output_type": "execute_result"
    }
   ],
   "source": [
    "math.sqrt(mean_squared_error(ytest,test_predict))"
   ]
  },
  {
   "cell_type": "code",
   "execution_count": 39,
   "id": "c5d7b207",
   "metadata": {},
   "outputs": [
    {
     "data": {
      "image/png": "[encoded data removed]",
      "text/plain": [
       "<Figure size 432x288 with 1 Axes>"
      ]
     },
     "metadata": {},
     "output_type": "display_data"
    }
   ],
   "source": [
    "look_back=100\n",
    "trainPredictPlot = numpy.empty_like(df1)\n",
    "trainPredictPlot[:,:]= np.nan\n",
    "trainPredictPlot[look_back:len(train_predict)+look_back,:] = train_predict\n",
    "testPredictPlot = numpy.empty_like(df1)\n",
    "testPredictPlot[:,:]=numpy.nan\n",
    "testPredictPlot[len(train_predict)+(look_back*2)+1: len(df1)-1,:] = test_predict\n",
    "plt.plot(scaler.inverse_transform(df1))\n",
    "plt.plot(trainPredictPlot)\n",
    "plt.show()"
   ]
  },
  {
   "cell_type": "code",
   "execution_count": 40,
   "id": "3ac0125c",
   "metadata": {},
   "outputs": [
    {
     "data": {
      "text/plain": [
       "(1, 101)"
      ]
     },
     "execution_count": 40,
     "metadata": {},
     "output_type": "execute_result"
    }
   ],
   "source": [
    "x_input= test_data[7294:].reshape(1,-1)\n",
    "x_input.shape"
   ]
  },
  {
   "cell_type": "code",
   "execution_count": 41,
   "id": "aba62bf8",
   "metadata": {},
   "outputs": [],
   "source": [
    "x_input= test_data[7294:].reshape(1,-1)"
   ]
  },
  {
   "cell_type": "code",
   "execution_count": 42,
   "id": "8e1ddb63",
   "metadata": {},
   "outputs": [
    {
     "data": {
      "text/plain": [
       "(1, 101)"
      ]
     },
     "execution_count": 42,
     "metadata": {},
     "output_type": "execute_result"
    }
   ],
   "source": [
    "x_input.shape"
   ]
  },
  {
   "cell_type": "code",
   "execution_count": 43,
   "id": "d2c6be0a",
   "metadata": {},
   "outputs": [],
   "source": [
    "size=x_input.shape[1]"
   ]
  },
  {
   "cell_type": "code",
   "execution_count": 44,
   "id": "bff77691",
   "metadata": {},
   "outputs": [],
   "source": [
    "temp_input=list(x_input)\n",
    "temp_input=temp_input[0].tolist()"
   ]
  },
  {
   "cell_type": "code",
   "execution_count": 45,
   "id": "e3bea9d4",
   "metadata": {},
   "outputs": [],
   "source": [
    "from tensorflow.python.ops.numpy_ops import np_config\n",
    "np_config.enable_numpy_behavior()"
   ]
  },
  {
   "cell_type": "code",
   "execution_count": 46,
   "id": "59efdc25",
   "metadata": {},
   "outputs": [],
   "source": [
    "size_inp=X_train.shape[1]"
   ]
  },
  {
   "cell_type": "code",
   "execution_count": 47,
   "id": "32bc13e2",
   "metadata": {},
   "outputs": [
    {
     "name": "stdout",
     "output_type": "stream",
     "text": [
      "0 day input [0.20512821 0.21153846 0.21153846 0.21474359 0.21153846 0.21474359\n",
      " 0.21153846 0.20833333 0.21153846 0.20833333 0.20512821 0.20833333\n",
      " 0.20833333 0.21153846 0.20512821 0.20833333 0.20833333 0.20512821\n",
      " 0.20833333 0.20833333 0.20833333 0.20192308 0.20833333 0.10897436\n",
      " 0.11217949 0.11538462 0.11217949 0.11538462 0.12179487 0.12820513\n",
      " 0.12820513 0.12820513 0.12820513 0.13141026 0.13782051 0.14102564\n",
      " 0.1474359  0.1474359  0.15064103 0.15384615 0.15705128 0.16025641\n",
      " 0.16025641 0.16346154 0.15384615 0.15064103 0.14423077 0.01602564\n",
      " 0.04487179 0.09615385 0.10897436 0.10897436 0.11858974 0.12179487\n",
      " 0.12179487 0.13141026 0.13141026 0.13461538 0.13782051 0.13782051\n",
      " 0.13782051 0.14423077 0.1474359  0.15384615 0.16346154 0.16346154\n",
      " 0.16987179 0.16346154 0.16987179 0.17628205 0.17628205 0.17307692\n",
      " 0.17628205 0.17628205 0.17628205 0.17948718 0.17628205 0.18269231\n",
      " 0.18269231 0.17628205 0.18269231 0.17948718 0.18589744 0.18589744\n",
      " 0.18269231 0.18589744 0.18910256 0.18589744 0.18910256 0.18910256\n",
      " 0.18910256 0.19551282 0.19230769 0.19230769 0.19551282 0.19551282\n",
      " 0.19551282 0.19230769 0.19230769 0.18910256]\n",
      "0 day output [[0.18662226]]\n",
      "1 day input [0.21153846 0.21153846 0.21474359 0.21153846 0.21474359 0.21153846\n",
      " 0.20833333 0.21153846 0.20833333 0.20512821 0.20833333 0.20833333\n",
      " 0.21153846 0.20512821 0.20833333 0.20833333 0.20512821 0.20833333\n",
      " 0.20833333 0.20833333 0.20192308 0.20833333 0.10897436 0.11217949\n",
      " 0.11538462 0.11217949 0.11538462 0.12179487 0.12820513 0.12820513\n",
      " 0.12820513 0.12820513 0.13141026 0.13782051 0.14102564 0.1474359\n",
      " 0.1474359  0.15064103 0.15384615 0.15705128 0.16025641 0.16025641\n",
      " 0.16346154 0.15384615 0.15064103 0.14423077 0.01602564 0.04487179\n",
      " 0.09615385 0.10897436 0.10897436 0.11858974 0.12179487 0.12179487\n",
      " 0.13141026 0.13141026 0.13461538 0.13782051 0.13782051 0.13782051\n",
      " 0.14423077 0.1474359  0.15384615 0.16346154 0.16346154 0.16987179\n",
      " 0.16346154 0.16987179 0.17628205 0.17628205 0.17307692 0.17628205\n",
      " 0.17628205 0.17628205 0.17948718 0.17628205 0.18269231 0.18269231\n",
      " 0.17628205 0.18269231 0.17948718 0.18589744 0.18589744 0.18269231\n",
      " 0.18589744 0.18910256 0.18589744 0.18910256 0.18910256 0.18910256\n",
      " 0.19551282 0.19230769 0.19230769 0.19551282 0.19551282 0.19551282\n",
      " 0.19230769 0.19230769 0.18910256 0.18662226]\n",
      "1 day output [[0.18432565]]\n",
      "2 day input [0.21153846 0.21474359 0.21153846 0.21474359 0.21153846 0.20833333\n",
      " 0.21153846 0.20833333 0.20512821 0.20833333 0.20833333 0.21153846\n",
      " 0.20512821 0.20833333 0.20833333 0.20512821 0.20833333 0.20833333\n",
      " 0.20833333 0.20192308 0.20833333 0.10897436 0.11217949 0.11538462\n",
      " 0.11217949 0.11538462 0.12179487 0.12820513 0.12820513 0.12820513\n",
      " 0.12820513 0.13141026 0.13782051 0.14102564 0.1474359  0.1474359\n",
      " 0.15064103 0.15384615 0.15705128 0.16025641 0.16025641 0.16346154\n",
      " 0.15384615 0.15064103 0.14423077 0.01602564 0.04487179 0.09615385\n",
      " 0.10897436 0.10897436 0.11858974 0.12179487 0.12179487 0.13141026\n",
      " 0.13141026 0.13461538 0.13782051 0.13782051 0.13782051 0.14423077\n",
      " 0.1474359  0.15384615 0.16346154 0.16346154 0.16987179 0.16346154\n",
      " 0.16987179 0.17628205 0.17628205 0.17307692 0.17628205 0.17628205\n",
      " 0.17628205 0.17948718 0.17628205 0.18269231 0.18269231 0.17628205\n",
      " 0.18269231 0.17948718 0.18589744 0.18589744 0.18269231 0.18589744\n",
      " 0.18910256 0.18589744 0.18910256 0.18910256 0.18910256 0.19551282\n",
      " 0.19230769 0.19230769 0.19551282 0.19551282 0.19551282 0.19230769\n",
      " 0.19230769 0.18910256 0.18662226 0.18432565]\n",
      "2 day output [[0.18205963]]\n",
      "3 day input [0.21474359 0.21153846 0.21474359 0.21153846 0.20833333 0.21153846\n",
      " 0.20833333 0.20512821 0.20833333 0.20833333 0.21153846 0.20512821\n",
      " 0.20833333 0.20833333 0.20512821 0.20833333 0.20833333 0.20833333\n",
      " 0.20192308 0.20833333 0.10897436 0.11217949 0.11538462 0.11217949\n",
      " 0.11538462 0.12179487 0.12820513 0.12820513 0.12820513 0.12820513\n",
      " 0.13141026 0.13782051 0.14102564 0.1474359  0.1474359  0.15064103\n",
      " 0.15384615 0.15705128 0.16025641 0.16025641 0.16346154 0.15384615\n",
      " 0.15064103 0.14423077 0.01602564 0.04487179 0.09615385 0.10897436\n",
      " 0.10897436 0.11858974 0.12179487 0.12179487 0.13141026 0.13141026\n",
      " 0.13461538 0.13782051 0.13782051 0.13782051 0.14423077 0.1474359\n",
      " 0.15384615 0.16346154 0.16346154 0.16987179 0.16346154 0.16987179\n",
      " 0.17628205 0.17628205 0.17307692 0.17628205 0.17628205 0.17628205\n",
      " 0.17948718 0.17628205 0.18269231 0.18269231 0.17628205 0.18269231\n",
      " 0.17948718 0.18589744 0.18589744 0.18269231 0.18589744 0.18910256\n",
      " 0.18589744 0.18910256 0.18910256 0.18910256 0.19551282 0.19230769\n",
      " 0.19230769 0.19551282 0.19551282 0.19551282 0.19230769 0.19230769\n",
      " 0.18910256 0.18662226 0.18432565 0.18205963]\n",
      "3 day output [[0.1798907]]\n",
      "4 day input [0.21153846 0.21474359 0.21153846 0.20833333 0.21153846 0.20833333\n",
      " 0.20512821 0.20833333 0.20833333 0.21153846 0.20512821 0.20833333\n",
      " 0.20833333 0.20512821 0.20833333 0.20833333 0.20833333 0.20192308\n",
      " 0.20833333 0.10897436 0.11217949 0.11538462 0.11217949 0.11538462\n",
      " 0.12179487 0.12820513 0.12820513 0.12820513 0.12820513 0.13141026\n",
      " 0.13782051 0.14102564 0.1474359  0.1474359  0.15064103 0.15384615\n",
      " 0.15705128 0.16025641 0.16025641 0.16346154 0.15384615 0.15064103\n",
      " 0.14423077 0.01602564 0.04487179 0.09615385 0.10897436 0.10897436\n",
      " 0.11858974 0.12179487 0.12179487 0.13141026 0.13141026 0.13461538\n",
      " 0.13782051 0.13782051 0.13782051 0.14423077 0.1474359  0.15384615\n",
      " 0.16346154 0.16346154 0.16987179 0.16346154 0.16987179 0.17628205\n",
      " 0.17628205 0.17307692 0.17628205 0.17628205 0.17628205 0.17948718\n",
      " 0.17628205 0.18269231 0.18269231 0.17628205 0.18269231 0.17948718\n",
      " 0.18589744 0.18589744 0.18269231 0.18589744 0.18910256 0.18589744\n",
      " 0.18910256 0.18910256 0.18910256 0.19551282 0.19230769 0.19230769\n",
      " 0.19551282 0.19551282 0.19551282 0.19230769 0.19230769 0.18910256\n",
      " 0.18662226 0.18432565 0.18205963 0.17989071]\n",
      "4 day output [[0.17781606]]\n",
      "5 day input [0.21474359 0.21153846 0.20833333 0.21153846 0.20833333 0.20512821\n",
      " 0.20833333 0.20833333 0.21153846 0.20512821 0.20833333 0.20833333\n",
      " 0.20512821 0.20833333 0.20833333 0.20833333 0.20192308 0.20833333\n",
      " 0.10897436 0.11217949 0.11538462 0.11217949 0.11538462 0.12179487\n",
      " 0.12820513 0.12820513 0.12820513 0.12820513 0.13141026 0.13782051\n",
      " 0.14102564 0.1474359  0.1474359  0.15064103 0.15384615 0.15705128\n",
      " 0.16025641 0.16025641 0.16346154 0.15384615 0.15064103 0.14423077\n",
      " 0.01602564 0.04487179 0.09615385 0.10897436 0.10897436 0.11858974\n",
      " 0.12179487 0.12179487 0.13141026 0.13141026 0.13461538 0.13782051\n",
      " 0.13782051 0.13782051 0.14423077 0.1474359  0.15384615 0.16346154\n",
      " 0.16346154 0.16987179 0.16346154 0.16987179 0.17628205 0.17628205\n",
      " 0.17307692 0.17628205 0.17628205 0.17628205 0.17948718 0.17628205\n",
      " 0.18269231 0.18269231 0.17628205 0.18269231 0.17948718 0.18589744\n",
      " 0.18589744 0.18269231 0.18589744 0.18910256 0.18589744 0.18910256\n",
      " 0.18910256 0.18910256 0.19551282 0.19230769 0.19230769 0.19551282\n",
      " 0.19551282 0.19551282 0.19230769 0.19230769 0.18910256 0.18662226\n",
      " 0.18432565 0.18205963 0.17989071 0.17781606]\n",
      "5 day output [[0.17582212]]\n",
      "6 day input [0.21153846 0.20833333 0.21153846 0.20833333 0.20512821 0.20833333\n",
      " 0.20833333 0.21153846 0.20512821 0.20833333 0.20833333 0.20512821\n",
      " 0.20833333 0.20833333 0.20833333 0.20192308 0.20833333 0.10897436\n",
      " 0.11217949 0.11538462 0.11217949 0.11538462 0.12179487 0.12820513\n",
      " 0.12820513 0.12820513 0.12820513 0.13141026 0.13782051 0.14102564\n",
      " 0.1474359  0.1474359  0.15064103 0.15384615 0.15705128 0.16025641\n",
      " 0.16025641 0.16346154 0.15384615 0.15064103 0.14423077 0.01602564\n",
      " 0.04487179 0.09615385 0.10897436 0.10897436 0.11858974 0.12179487\n",
      " 0.12179487 0.13141026 0.13141026 0.13461538 0.13782051 0.13782051\n",
      " 0.13782051 0.14423077 0.1474359  0.15384615 0.16346154 0.16346154\n",
      " 0.16987179 0.16346154 0.16987179 0.17628205 0.17628205 0.17307692\n",
      " 0.17628205 0.17628205 0.17628205 0.17948718 0.17628205 0.18269231\n",
      " 0.18269231 0.17628205 0.18269231 0.17948718 0.18589744 0.18589744\n",
      " 0.18269231 0.18589744 0.18910256 0.18589744 0.18910256 0.18910256\n",
      " 0.18910256 0.19551282 0.19230769 0.19230769 0.19551282 0.19551282\n",
      " 0.19551282 0.19230769 0.19230769 0.18910256 0.18662226 0.18432565\n",
      " 0.18205963 0.17989071 0.17781606 0.17582212]\n",
      "6 day output [[0.17389448]]\n",
      "7 day input [0.20833333 0.21153846 0.20833333 0.20512821 0.20833333 0.20833333\n",
      " 0.21153846 0.20512821 0.20833333 0.20833333 0.20512821 0.20833333\n",
      " 0.20833333 0.20833333 0.20192308 0.20833333 0.10897436 0.11217949\n",
      " 0.11538462 0.11217949 0.11538462 0.12179487 0.12820513 0.12820513\n",
      " 0.12820513 0.12820513 0.13141026 0.13782051 0.14102564 0.1474359\n",
      " 0.1474359  0.15064103 0.15384615 0.15705128 0.16025641 0.16025641\n",
      " 0.16346154 0.15384615 0.15064103 0.14423077 0.01602564 0.04487179\n",
      " 0.09615385 0.10897436 0.10897436 0.11858974 0.12179487 0.12179487\n",
      " 0.13141026 0.13141026 0.13461538 0.13782051 0.13782051 0.13782051\n",
      " 0.14423077 0.1474359  0.15384615 0.16346154 0.16346154 0.16987179\n",
      " 0.16346154 0.16987179 0.17628205 0.17628205 0.17307692 0.17628205\n",
      " 0.17628205 0.17628205 0.17948718 0.17628205 0.18269231 0.18269231\n",
      " 0.17628205 0.18269231 0.17948718 0.18589744 0.18589744 0.18269231\n",
      " 0.18589744 0.18910256 0.18589744 0.18910256 0.18910256 0.18910256\n",
      " 0.19551282 0.19230769 0.19230769 0.19551282 0.19551282 0.19551282\n",
      " 0.19230769 0.19230769 0.18910256 0.18662226 0.18432565 0.18205963\n",
      " 0.17989071 0.17781606 0.17582212 0.17389448]\n"
     ]
    },
    {
     "name": "stdout",
     "output_type": "stream",
     "text": [
      "7 day output [[0.17202048]]\n",
      "8 day input [0.21153846 0.20833333 0.20512821 0.20833333 0.20833333 0.21153846\n",
      " 0.20512821 0.20833333 0.20833333 0.20512821 0.20833333 0.20833333\n",
      " 0.20833333 0.20192308 0.20833333 0.10897436 0.11217949 0.11538462\n",
      " 0.11217949 0.11538462 0.12179487 0.12820513 0.12820513 0.12820513\n",
      " 0.12820513 0.13141026 0.13782051 0.14102564 0.1474359  0.1474359\n",
      " 0.15064103 0.15384615 0.15705128 0.16025641 0.16025641 0.16346154\n",
      " 0.15384615 0.15064103 0.14423077 0.01602564 0.04487179 0.09615385\n",
      " 0.10897436 0.10897436 0.11858974 0.12179487 0.12179487 0.13141026\n",
      " 0.13141026 0.13461538 0.13782051 0.13782051 0.13782051 0.14423077\n",
      " 0.1474359  0.15384615 0.16346154 0.16346154 0.16987179 0.16346154\n",
      " 0.16987179 0.17628205 0.17628205 0.17307692 0.17628205 0.17628205\n",
      " 0.17628205 0.17948718 0.17628205 0.18269231 0.18269231 0.17628205\n",
      " 0.18269231 0.17948718 0.18589744 0.18589744 0.18269231 0.18589744\n",
      " 0.18910256 0.18589744 0.18910256 0.18910256 0.18910256 0.19551282\n",
      " 0.19230769 0.19230769 0.19551282 0.19551282 0.19551282 0.19230769\n",
      " 0.19230769 0.18910256 0.18662226 0.18432565 0.18205963 0.17989071\n",
      " 0.17781606 0.17582212 0.17389448 0.17202048]\n",
      "8 day output [[0.17019004]]\n",
      "9 day input [0.20833333 0.20512821 0.20833333 0.20833333 0.21153846 0.20512821\n",
      " 0.20833333 0.20833333 0.20512821 0.20833333 0.20833333 0.20833333\n",
      " 0.20192308 0.20833333 0.10897436 0.11217949 0.11538462 0.11217949\n",
      " 0.11538462 0.12179487 0.12820513 0.12820513 0.12820513 0.12820513\n",
      " 0.13141026 0.13782051 0.14102564 0.1474359  0.1474359  0.15064103\n",
      " 0.15384615 0.15705128 0.16025641 0.16025641 0.16346154 0.15384615\n",
      " 0.15064103 0.14423077 0.01602564 0.04487179 0.09615385 0.10897436\n",
      " 0.10897436 0.11858974 0.12179487 0.12179487 0.13141026 0.13141026\n",
      " 0.13461538 0.13782051 0.13782051 0.13782051 0.14423077 0.1474359\n",
      " 0.15384615 0.16346154 0.16346154 0.16987179 0.16346154 0.16987179\n",
      " 0.17628205 0.17628205 0.17307692 0.17628205 0.17628205 0.17628205\n",
      " 0.17948718 0.17628205 0.18269231 0.18269231 0.17628205 0.18269231\n",
      " 0.17948718 0.18589744 0.18589744 0.18269231 0.18589744 0.18910256\n",
      " 0.18589744 0.18910256 0.18910256 0.18910256 0.19551282 0.19230769\n",
      " 0.19230769 0.19551282 0.19551282 0.19551282 0.19230769 0.19230769\n",
      " 0.18910256 0.18662226 0.18432565 0.18205963 0.17989071 0.17781606\n",
      " 0.17582212 0.17389448 0.17202048 0.17019004]\n",
      "9 day output [[0.1683957]]\n",
      "[[0.1866222620010376], [0.18432565033435822], [0.1820596307516098], [0.1798907071352005], [0.17781606316566467], [0.17582212388515472], [0.1738944798707962], [0.17202048003673553], [0.17019003629684448], [0.16839569807052612]]\n"
     ]
    }
   ],
   "source": [
    "from numpy import array\n",
    "\n",
    "lst_output=[]\n",
    "n_steps=size_inp\n",
    "i=0\n",
    "while(i<10):\n",
    "    if(len(temp_input)>n_steps):\n",
    "        x_input=tf.convert_to_tensor(np.array(temp_input[1:]))\n",
    "        print(\"{} day input {}\". format(i,x_input))\n",
    "        x_input=x_input.reshape(1,-1)\n",
    "        x_input=x_input.reshape((1,n_steps,1))\n",
    "        yhat=model.predict(x_input,verbose=0)\n",
    "        print(\"{} day output {}\". format(i,yhat))\n",
    "        temp_input.extend(yhat[0].tolist())\n",
    "        temp_input=temp_input[1:]\n",
    "        lst_output.extend(yhat.tolist())\n",
    "        i=i+1\n",
    "    \n",
    "    else:\n",
    "        x_input=x_input.reshape((1,n_steps,1))\n",
    "        yhat= model.predict(x_input, verbose=0)\n",
    "        print(yhat[0])\n",
    "        temp_input.extend(yhat[0].tolist())\n",
    "        print(len(temp_input))\n",
    "        lst_output.extend(yhat.tolist())\n",
    "        i=i+1\n",
    "\n",
    "print(lst_output)"
   ]
  },
  {
   "cell_type": "code",
   "execution_count": 48,
   "id": "d4a45358",
   "metadata": {},
   "outputs": [],
   "source": [
    "day_new=np.arange(1,101)\n",
    "day_pred=np.arange(101,130)"
   ]
  },
  {
   "cell_type": "code",
   "execution_count": 49,
   "id": "dd21b6ee",
   "metadata": {},
   "outputs": [],
   "source": [
    "import matplotlib.pyplot as plt"
   ]
  },
  {
   "cell_type": "code",
   "execution_count": 50,
   "id": "28d87616",
   "metadata": {},
   "outputs": [
    {
     "data": {
      "text/plain": [
       "21128"
      ]
     },
     "execution_count": 50,
     "metadata": {},
     "output_type": "execute_result"
    }
   ],
   "source": [
    "len(df1)"
   ]
  },
  {
   "cell_type": "code",
   "execution_count": 51,
   "id": "cbae0969",
   "metadata": {},
   "outputs": [],
   "source": [
    "df3=df1.tolist()\n",
    "df3.extend(lst_output)"
   ]
  },
  {
   "cell_type": "code",
   "execution_count": 52,
   "id": "4293209d",
   "metadata": {},
   "outputs": [
    {
     "data": {
      "text/plain": [
       "[<matplotlib.lines.Line2D at 0x27fe503d3d0>]"
      ]
     },
     "execution_count": 52,
     "metadata": {},
     "output_type": "execute_result"
    },
    {
     "data": {
      "image/png": "[encoded data removed]",
      "text/plain": [
       "<Figure size 432x288 with 1 Axes>"
      ]
     },
     "metadata": {},
     "output_type": "display_data"
    }
   ],
   "source": [
    "df3=df1.tolist()\n",
    "df3.extend(lst_output)\n",
    "plt.plot(df3[1000:])"
   ]
  },
  {
   "cell_type": "code",
   "execution_count": 53,
   "id": "f9858557",
   "metadata": {},
   "outputs": [
    {
     "data": {
      "text/plain": [
       "[[0.1866222620010376],\n",
       " [0.18432565033435822],\n",
       " [0.1820596307516098],\n",
       " [0.1798907071352005],\n",
       " [0.17781606316566467],\n",
       " [0.17582212388515472],\n",
       " [0.1738944798707962],\n",
       " [0.17202048003673553],\n",
       " [0.17019003629684448],\n",
       " [0.16839569807052612]]"
      ]
     },
     "execution_count": 53,
     "metadata": {},
     "output_type": "execute_result"
    }
   ],
   "source": [
    "lst_output"
   ]
  },
  {
   "cell_type": "code",
   "execution_count": 54,
   "id": "c805def8",
   "metadata": {},
   "outputs": [
    {
     "data": {
      "text/plain": [
       "array([[141.00009],\n",
       "       [140.86594],\n",
       "       [140.84093],\n",
       "       ...,\n",
       "       [147.46791],\n",
       "       [147.60274],\n",
       "       [147.15305]], dtype=float32)"
      ]
     },
     "execution_count": 54,
     "metadata": {},
     "output_type": "execute_result"
    }
   ],
   "source": [
    "test_predict"
   ]
  },
  {
   "cell_type": "code",
   "execution_count": 55,
   "id": "40a32861",
   "metadata": {},
   "outputs": [
    {
     "data": {
      "text/html": [
       "<div>\n",
       "<style scoped>\n",
       "    .dataframe tbody tr th:only-of-type {\n",
       "        vertical-align: middle;\n",
       "    }\n",
       "\n",
       "    .dataframe tbody tr th {\n",
       "        vertical-align: top;\n",
       "    }\n",
       "\n",
       "    .dataframe thead th {\n",
       "        text-align: right;\n",
       "    }\n",
       "</style>\n",
       "<table border=\"1\" class=\"dataframe\">\n",
       "  <thead>\n",
       "    <tr style=\"text-align: right;\">\n",
       "      <th></th>\n",
       "      <th>Soil_Moist_New</th>\n",
       "    </tr>\n",
       "  </thead>\n",
       "  <tbody>\n",
       "    <tr>\n",
       "      <th>0</th>\n",
       "      <td>146.226146</td>\n",
       "    </tr>\n",
       "    <tr>\n",
       "      <th>1</th>\n",
       "      <td>145.509603</td>\n",
       "    </tr>\n",
       "    <tr>\n",
       "      <th>2</th>\n",
       "      <td>144.802605</td>\n",
       "    </tr>\n",
       "    <tr>\n",
       "      <th>3</th>\n",
       "      <td>144.125901</td>\n",
       "    </tr>\n",
       "    <tr>\n",
       "      <th>4</th>\n",
       "      <td>143.478612</td>\n",
       "    </tr>\n",
       "    <tr>\n",
       "      <th>5</th>\n",
       "      <td>142.856503</td>\n",
       "    </tr>\n",
       "    <tr>\n",
       "      <th>6</th>\n",
       "      <td>142.255078</td>\n",
       "    </tr>\n",
       "    <tr>\n",
       "      <th>7</th>\n",
       "      <td>141.670390</td>\n",
       "    </tr>\n",
       "    <tr>\n",
       "      <th>8</th>\n",
       "      <td>141.099291</td>\n",
       "    </tr>\n",
       "    <tr>\n",
       "      <th>9</th>\n",
       "      <td>140.539458</td>\n",
       "    </tr>\n",
       "  </tbody>\n",
       "</table>\n",
       "</div>"
      ],
      "text/plain": [
       "   Soil_Moist_New\n",
       "0      146.226146\n",
       "1      145.509603\n",
       "2      144.802605\n",
       "3      144.125901\n",
       "4      143.478612\n",
       "5      142.856503\n",
       "6      142.255078\n",
       "7      141.670390\n",
       "8      141.099291\n",
       "9      140.539458"
      ]
     },
     "execution_count": 55,
     "metadata": {},
     "output_type": "execute_result"
    }
   ],
   "source": [
    "Soil_1 = scaler.inverse_transform(lst_output)\n",
    "Soil_1 = pd.DataFrame((Soil_1), columns = ['Soil_Moist_New'])\n",
    "Soil_1"
   ]
  }
 ],
 "metadata": {
  "kernelspec": {
   "display_name": "Python 3 (ipykernel)",
   "language": "python",
   "name": "python3"
  },
  "language_info": {
   "codemirror_mode": {
    "name": "ipython",
    "version": 3
   },
   "file_extension": ".py",
   "mimetype": "text/x-python",
   "name": "python",
   "nbconvert_exporter": "python",
   "pygments_lexer": "ipython3",
   "version": "3.9.13"
  }
 },
 "nbformat": 4,
 "nbformat_minor": 5
}
